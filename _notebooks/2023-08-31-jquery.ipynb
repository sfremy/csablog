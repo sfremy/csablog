{
 "cells": [
  {
   "cell_type": "markdown",
   "metadata": {},
   "source": [
    "---\n",
    "toc: true\n",
    "comments: true\n",
    "layout: post\n",
    "title: JS Tutorial\n",
    "description: General tutorial for JavaScript basic functionality.\n",
    "type: hacks\n",
    "courses: { csp: {week: 2, categories: [4.A]}}\n",
    "categories: [C1.4]\n",
    "---"
   ]
  }
 ],
 "metadata": {
  "language_info": {
   "name": "python"
  },
  "orig_nbformat": 4
 },
 "nbformat": 4,
 "nbformat_minor": 2
}
