{
 "cells": [
  {
   "cell_type": "markdown",
   "metadata": {},
   "source": [
    "---\n",
    "toc: true\n",
    "comments: true\n",
    "layout: post\n",
    "title: Linux Shell & Bash Usage\n",
    "description: Bash Tutorial .ipynb test.\n",
    "type: hacks\n",
    "courses: { csp: {week: 2, categories: [4.A]}}\n",
    "categories: [C1.4]\n",
    "---"
   ]
  },
  {
   "cell_type": "markdown",
   "metadata": {
    "vscode": {
     "languageId": "plaintext"
    }
   },
   "source": [
    "# How to Use Bash\n",
    "## Overview\n",
    "<p>\n",
    "Bash is a shell and command language used by most Linux operating systems. It is a command-line interface but can also read and execute commands from a file, as is being done here.\n",
    "</p>\n",
    "\n",
    "## Setup\n",
    "<p>\n",
    "To make a Bash script in VSCode's Jupyter notebook implementation, use 'Shell Script' as the cell type and open with \"%%script bash\".\n",
    "</p>"
   ]
  },
  {
   "cell_type": "code",
   "execution_count": null,
   "metadata": {
    "vscode": {
     "languageId": "shellscript"
    }
   },
   "outputs": [],
   "source": [
    "%%script bash"
   ]
  },
  {
   "cell_type": "markdown",
   "metadata": {},
   "source": [
    "<p>\n",
    "You can treat the cell as a terminal and input your command list. When run, it will treat the commands the same as a normal Linux shell.\n",
    "</p>"
   ]
  }
 ],
 "metadata": {
  "language_info": {
   "name": "python"
  },
  "orig_nbformat": 4
 },
 "nbformat": 4,
 "nbformat_minor": 2
}
